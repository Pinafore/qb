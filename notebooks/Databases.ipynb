{
 "cells": [
  {
   "cell_type": "code",
   "execution_count": 1,
   "metadata": {
    "collapsed": false
   },
   "outputs": [
    {
     "name": "stderr",
     "output_type": "stream",
     "text": [
      "/usr/local/lib/python3.5/site-packages/IPython/config.py:13: ShimWarning: The `IPython.config` package has been deprecated. You should import from traitlets.config instead.\n",
      "  \"You should import from traitlets.config instead.\", ShimWarning)\n",
      "/usr/local/lib/python3.5/site-packages/IPython/utils/traitlets.py:5: UserWarning: IPython.utils.traitlets has moved to a top-level traitlets package.\n",
      "  warn(\"IPython.utils.traitlets has moved to a top-level traitlets package.\")\n"
     ]
    }
   ],
   "source": [
    "%load_ext sql\n",
    "import os\n",
    "\n",
    "curr_dir = os.getcwd()\n",
    "guesses_path = os.path.join(curr_dir, \"data/guesses.db\")\n",
    "questions_path = os.path.join(curr_dir, \"data/questions.db\")"
   ]
  },
  {
   "cell_type": "code",
   "execution_count": 4,
   "metadata": {
    "collapsed": false
   },
   "outputs": [
    {
     "data": {
      "text/plain": [
       "'Connected: None@data/guesses.db'"
      ]
     },
     "execution_count": 4,
     "metadata": {},
     "output_type": "execute_result"
    }
   ],
   "source": [
    "%sql sqlite:///data/guesses.db"
   ]
  },
  {
   "cell_type": "code",
   "execution_count": 5,
   "metadata": {
    "collapsed": false
   },
   "outputs": [
    {
     "name": "stdout",
     "output_type": "stream",
     "text": [
      "Done.\n"
     ]
    },
    {
     "data": {
      "text/html": [
       "<table>\n",
       "    <tr>\n",
       "        <th>cid</th>\n",
       "        <th>name</th>\n",
       "        <th>type</th>\n",
       "        <th>notnull</th>\n",
       "        <th>dflt_value</th>\n",
       "        <th>pk</th>\n",
       "    </tr>\n",
       "    <tr>\n",
       "        <td>0</td>\n",
       "        <td>fold</td>\n",
       "        <td>TEXT</td>\n",
       "        <td>0</td>\n",
       "        <td>None</td>\n",
       "        <td>1</td>\n",
       "    </tr>\n",
       "    <tr>\n",
       "        <td>1</td>\n",
       "        <td>question</td>\n",
       "        <td>INTEGER</td>\n",
       "        <td>0</td>\n",
       "        <td>None</td>\n",
       "        <td>2</td>\n",
       "    </tr>\n",
       "    <tr>\n",
       "        <td>2</td>\n",
       "        <td>sentence</td>\n",
       "        <td>INTEGER</td>\n",
       "        <td>0</td>\n",
       "        <td>None</td>\n",
       "        <td>3</td>\n",
       "    </tr>\n",
       "    <tr>\n",
       "        <td>3</td>\n",
       "        <td>token</td>\n",
       "        <td>INTEGER</td>\n",
       "        <td>0</td>\n",
       "        <td>None</td>\n",
       "        <td>4</td>\n",
       "    </tr>\n",
       "    <tr>\n",
       "        <td>4</td>\n",
       "        <td>page</td>\n",
       "        <td>TEXT</td>\n",
       "        <td>0</td>\n",
       "        <td>None</td>\n",
       "        <td>5</td>\n",
       "    </tr>\n",
       "    <tr>\n",
       "        <td>5</td>\n",
       "        <td>guesser</td>\n",
       "        <td>TEXT</td>\n",
       "        <td>0</td>\n",
       "        <td>None</td>\n",
       "        <td>6</td>\n",
       "    </tr>\n",
       "    <tr>\n",
       "        <td>6</td>\n",
       "        <td>feature</td>\n",
       "        <td>TEXT</td>\n",
       "        <td>0</td>\n",
       "        <td>None</td>\n",
       "        <td>7</td>\n",
       "    </tr>\n",
       "    <tr>\n",
       "        <td>7</td>\n",
       "        <td>score</td>\n",
       "        <td>NUMERIC</td>\n",
       "        <td>0</td>\n",
       "        <td>None</td>\n",
       "        <td>0</td>\n",
       "    </tr>\n",
       "</table>"
      ],
      "text/plain": [
       "[(0, 'fold', 'TEXT', 0, None, 1),\n",
       " (1, 'question', 'INTEGER', 0, None, 2),\n",
       " (2, 'sentence', 'INTEGER', 0, None, 3),\n",
       " (3, 'token', 'INTEGER', 0, None, 4),\n",
       " (4, 'page', 'TEXT', 0, None, 5),\n",
       " (5, 'guesser', 'TEXT', 0, None, 6),\n",
       " (6, 'feature', 'TEXT', 0, None, 7),\n",
       " (7, 'score', 'NUMERIC', 0, None, 0)]"
      ]
     },
     "execution_count": 5,
     "metadata": {},
     "output_type": "execute_result"
    }
   ],
   "source": [
    "%sql PRAGMA table_info(\"guesses\")"
   ]
  },
  {
   "cell_type": "code",
   "execution_count": 16,
   "metadata": {
    "collapsed": false
   },
   "outputs": [
    {
     "name": "stdout",
     "output_type": "stream",
     "text": [
      "Done.\n"
     ]
    },
    {
     "data": {
      "text/html": [
       "<table>\n",
       "    <tr>\n",
       "        <th>fold</th>\n",
       "        <th>question</th>\n",
       "        <th>sentence</th>\n",
       "        <th>token</th>\n",
       "        <th>page</th>\n",
       "        <th>guesser</th>\n",
       "        <th>feature</th>\n",
       "        <th>score</th>\n",
       "    </tr>\n",
       "    <tr>\n",
       "        <td>dev</td>\n",
       "        <td>4580</td>\n",
       "        <td>3</td>\n",
       "        <td>0</td>\n",
       "        <td>Mark Twain</td>\n",
       "        <td>deep</td>\n",
       "        <td>0</td>\n",
       "        <td>2.224870997939481e-05</td>\n",
       "    </tr>\n",
       "    <tr>\n",
       "        <td>dev</td>\n",
       "        <td>4580</td>\n",
       "        <td>3</td>\n",
       "        <td>0</td>\n",
       "        <td>Paul Cézanne</td>\n",
       "        <td>deep</td>\n",
       "        <td>0</td>\n",
       "        <td>4.790591485569423e-08</td>\n",
       "    </tr>\n",
       "    <tr>\n",
       "        <td>dev</td>\n",
       "        <td>4580</td>\n",
       "        <td>3</td>\n",
       "        <td>0</td>\n",
       "        <td>Thomas Pynchon</td>\n",
       "        <td>deep</td>\n",
       "        <td>0</td>\n",
       "        <td>1.6371029634165385e-07</td>\n",
       "    </tr>\n",
       "    <tr>\n",
       "        <td>dev</td>\n",
       "        <td>4580</td>\n",
       "        <td>3</td>\n",
       "        <td>0</td>\n",
       "        <td>We (novel)</td>\n",
       "        <td>deep</td>\n",
       "        <td>0</td>\n",
       "        <td>7.051264373232002e-06</td>\n",
       "    </tr>\n",
       "    <tr>\n",
       "        <td>dev</td>\n",
       "        <td>4580</td>\n",
       "        <td>3</td>\n",
       "        <td>0</td>\n",
       "        <td>Duino Elegies</td>\n",
       "        <td>deep</td>\n",
       "        <td>0</td>\n",
       "        <td>0.00016152867014854771</td>\n",
       "    </tr>\n",
       "</table>"
      ]
     },
     "metadata": {},
     "output_type": "execute_result"
    }
   ],
   "source": [
    "%sql SELECT * FROM \"guesses\" LIMIT 5"
   ]
  },
  {
   "cell_type": "code",
   "execution_count": 6,
   "metadata": {
    "collapsed": false
   },
   "outputs": [
    {
     "data": {
      "text/plain": [
       "'Connected: None@data/non_naqt.db'"
      ]
     },
     "execution_count": 6,
     "metadata": {},
     "output_type": "execute_result"
    }
   ],
   "source": [
    "%sql sqlite:///data/non_naqt.db"
   ]
  },
  {
   "cell_type": "code",
   "execution_count": 7,
   "metadata": {
    "collapsed": false
   },
   "outputs": [
    {
     "name": "stdout",
     "output_type": "stream",
     "text": [
      "Done.\n"
     ]
    },
    {
     "data": {
      "text/html": [
       "<table>\n",
       "    <tr>\n",
       "        <th>cid</th>\n",
       "        <th>name</th>\n",
       "        <th>type</th>\n",
       "        <th>notnull</th>\n",
       "        <th>dflt_value</th>\n",
       "        <th>pk</th>\n",
       "    </tr>\n",
       "    <tr>\n",
       "        <td>0</td>\n",
       "        <td>id</td>\n",
       "        <td>integer</td>\n",
       "        <td>0</td>\n",
       "        <td>None</td>\n",
       "        <td>1</td>\n",
       "    </tr>\n",
       "    <tr>\n",
       "        <td>1</td>\n",
       "        <td>category</td>\n",
       "        <td>text</td>\n",
       "        <td>0</td>\n",
       "        <td>None</td>\n",
       "        <td>0</td>\n",
       "    </tr>\n",
       "    <tr>\n",
       "        <td>2</td>\n",
       "        <td>page</td>\n",
       "        <td>text</td>\n",
       "        <td>0</td>\n",
       "        <td>None</td>\n",
       "        <td>0</td>\n",
       "    </tr>\n",
       "    <tr>\n",
       "        <td>3</td>\n",
       "        <td>answer</td>\n",
       "        <td>text</td>\n",
       "        <td>0</td>\n",
       "        <td>None</td>\n",
       "        <td>0</td>\n",
       "    </tr>\n",
       "    <tr>\n",
       "        <td>4</td>\n",
       "        <td>tournament</td>\n",
       "        <td>text</td>\n",
       "        <td>0</td>\n",
       "        <td>None</td>\n",
       "        <td>0</td>\n",
       "    </tr>\n",
       "    <tr>\n",
       "        <td>5</td>\n",
       "        <td>type</td>\n",
       "        <td>text</td>\n",
       "        <td>0</td>\n",
       "        <td>None</td>\n",
       "        <td>0</td>\n",
       "    </tr>\n",
       "    <tr>\n",
       "        <td>6</td>\n",
       "        <td>naqt</td>\n",
       "        <td>integer</td>\n",
       "        <td>0</td>\n",
       "        <td>None</td>\n",
       "        <td>0</td>\n",
       "    </tr>\n",
       "    <tr>\n",
       "        <td>7</td>\n",
       "        <td>fold</td>\n",
       "        <td>TEXT</td>\n",
       "        <td>0</td>\n",
       "        <td>None</td>\n",
       "        <td>0</td>\n",
       "    </tr>\n",
       "    <tr>\n",
       "        <td>8</td>\n",
       "        <td>gender</td>\n",
       "        <td>TEXT</td>\n",
       "        <td>0</td>\n",
       "        <td>unknown</td>\n",
       "        <td>0</td>\n",
       "    </tr>\n",
       "</table>"
      ],
      "text/plain": [
       "[(0, 'id', 'integer', 0, None, 1),\n",
       " (1, 'category', 'text', 0, None, 0),\n",
       " (2, 'page', 'text', 0, None, 0),\n",
       " (3, 'answer', 'text', 0, None, 0),\n",
       " (4, 'tournament', 'text', 0, None, 0),\n",
       " (5, 'type', 'text', 0, None, 0),\n",
       " (6, 'naqt', 'integer', 0, None, 0),\n",
       " (7, 'fold', 'TEXT', 0, None, 0),\n",
       " (8, 'gender', 'TEXT', 0, 'unknown', 0)]"
      ]
     },
     "execution_count": 7,
     "metadata": {},
     "output_type": "execute_result"
    }
   ],
   "source": [
    "%sql PRAGMA table_info(\"questions\")"
   ]
  },
  {
   "cell_type": "code",
   "execution_count": 19,
   "metadata": {
    "collapsed": false
   },
   "outputs": [
    {
     "name": "stdout",
     "output_type": "stream",
     "text": [
      "Done.\n"
     ]
    },
    {
     "data": {
      "text/html": [
       "<table>\n",
       "    <tr>\n",
       "        <th>id</th>\n",
       "        <th>category</th>\n",
       "        <th>page</th>\n",
       "        <th>answer</th>\n",
       "        <th>tournament</th>\n",
       "        <th>type</th>\n",
       "        <th>naqt</th>\n",
       "        <th>fold</th>\n",
       "        <th>gender</th>\n",
       "    </tr>\n",
       "    <tr>\n",
       "        <td>1</td>\n",
       "        <td>Fine_Arts</td>\n",
       "        <td>Thomas Cole</td>\n",
       "        <td>thomas cole</td>\n",
       "        <td>1999 ACF Regionals</td>\n",
       "        <td>people</td>\n",
       "        <td>-1</td>\n",
       "        <td>train</td>\n",
       "        <td>male</td>\n",
       "    </tr>\n",
       "    <tr>\n",
       "        <td>2</td>\n",
       "        <td>Fine_Arts</td>\n",
       "        <td>Jean-Honore Fragonard</td>\n",
       "        <td>jeanhonore fragonard</td>\n",
       "        <td>1999 ACF Regionals</td>\n",
       "        <td>people</td>\n",
       "        <td>-1</td>\n",
       "        <td>dev</td>\n",
       "        <td>male</td>\n",
       "    </tr>\n",
       "    <tr>\n",
       "        <td>3</td>\n",
       "        <td>Fine_Arts</td>\n",
       "        <td>Holy Trinity (Masaccio)</td>\n",
       "        <td>holy trinity</td>\n",
       "        <td>1999 ACF Regionals</td>\n",
       "        <td>work</td>\n",
       "        <td>-1</td>\n",
       "        <td>train</td>\n",
       "        <td>non_person</td>\n",
       "    </tr>\n",
       "    <tr>\n",
       "        <td>4</td>\n",
       "        <td>Fine_Arts</td>\n",
       "        <td>Rococo</td>\n",
       "        <td>rococo</td>\n",
       "        <td>1999 ACF Regionals</td>\n",
       "        <td>work</td>\n",
       "        <td>-1</td>\n",
       "        <td>dev</td>\n",
       "        <td>non_person</td>\n",
       "    </tr>\n",
       "    <tr>\n",
       "        <td>5</td>\n",
       "        <td>Fine_Arts</td>\n",
       "        <td>The Swing (painting)</td>\n",
       "        <td>swing</td>\n",
       "        <td>1999 ACF Regionals</td>\n",
       "        <td>work</td>\n",
       "        <td>-1</td>\n",
       "        <td>train</td>\n",
       "        <td>non_person</td>\n",
       "    </tr>\n",
       "</table>"
      ]
     },
     "metadata": {},
     "output_type": "execute_result"
    }
   ],
   "source": [
    "%sql SELECT * FROM \"questions\" LIMIT 5"
   ]
  },
  {
   "cell_type": "code",
   "execution_count": null,
   "metadata": {
    "collapsed": true
   },
   "outputs": [],
   "source": []
  }
 ],
 "metadata": {
  "kernelspec": {
   "display_name": "Python 3",
   "language": "python",
   "name": "python3"
  },
  "language_info": {
   "codemirror_mode": {
    "name": "ipython",
    "version": 3
   },
   "file_extension": ".py",
   "mimetype": "text/x-python",
   "name": "python",
   "nbconvert_exporter": "python",
   "pygments_lexer": "ipython3",
   "version": "3.5.1"
  }
 },
 "nbformat": 4,
 "nbformat_minor": 0
}
